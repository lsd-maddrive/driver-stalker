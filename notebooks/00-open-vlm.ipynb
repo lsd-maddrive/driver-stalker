{
 "cells": [
  {
   "cell_type": "markdown",
   "metadata": {},
   "source": [
    "# Open VLM Demo"
   ]
  },
  {
   "cell_type": "code",
   "execution_count": null,
   "metadata": {},
   "outputs": [],
   "source": [
    "%load_ext autoreload\n",
    "%autoreload 2\n",
    "\n",
    "import ipywidgets as widgets \n",
    "import matplotlib.pyplot as plt \n",
    "from transformers import LlavaNextForConditionalGeneration, LlavaNextProcessor\n",
    "import torch\n",
    "from PIL import Image\n",
    "\n",
    "from driver_stalker.paths import get_repo_dpath\n",
    "from driver_stalker.utils.fs import read_image, get_image_fpaths_from_folder"
   ]
  },
  {
   "cell_type": "markdown",
   "metadata": {},
   "source": [
    "## Constants"
   ]
  },
  {
   "cell_type": "code",
   "execution_count": null,
   "metadata": {},
   "outputs": [],
   "source": [
    "PROJECT_DPATH = get_repo_dpath() \n",
    "DATA_DPATH = PROJECT_DPATH / \"data\"\n",
    "\n",
    "DATASET_DPATH = DATA_DPATH / \"drowsiness_dataset\"\n",
    "assert DATASET_DPATH.exists()"
   ]
  },
  {
   "cell_type": "markdown",
   "metadata": {},
   "source": [
    "## Model Loading"
   ]
  },
  {
   "cell_type": "code",
   "execution_count": null,
   "metadata": {},
   "outputs": [],
   "source": [
    "processor = LlavaNextProcessor.from_pretrained(\"tiiuae/falcon-11B-vlm\", tokenizer_class='PreTrainedTokenizerFast')\n",
    "model = LlavaNextForConditionalGeneration.from_pretrained(\"tiiuae/falcon-11B-vlm\", torch_dtype=torch.bfloat16)"
   ]
  },
  {
   "cell_type": "markdown",
   "metadata": {},
   "source": [
    "## Demo"
   ]
  },
  {
   "cell_type": "code",
   "execution_count": null,
   "metadata": {},
   "outputs": [],
   "source": [
    "no_yawn_paths = get_image_fpaths_from_folder(DATASET_DPATH / \"no_yawn\")\n",
    "yawn_paths = get_image_fpaths_from_folder(DATASET_DPATH / \"yawn\")\n",
    "\n",
    "img_paths = no_yawn_paths + yawn_paths\n",
    "\n",
    "len(no_yawn_paths), len(yawn_paths)"
   ]
  },
  {
   "cell_type": "code",
   "execution_count": null,
   "metadata": {},
   "outputs": [],
   "source": [
    "from PIL import Image\n",
    "import requests\n",
    "from transformers import AutoProcessor, LlavaNextForConditionalGeneration\n",
    "\n",
    "model = LlavaNextForConditionalGeneration.from_pretrained(\"llava-hf/llava-v1.6-mistral-7b-hf\")\n",
    "processor = AutoProcessor.from_pretrained(\"llava-hf/llava-v1.6-mistral-7b-hf\")\n",
    "\n",
    "prompt = \"[INST] <image>\\nWhat is shown in this image? [/INST]\"\n",
    "url = \"https://www.ilankelman.org/stopsigns/australia.jpg\"\n",
    "image = Image.open(requests.get(url, stream=True).raw)\n",
    "inputs = processor(images=image, text=prompt, return_tensors=\"pt\")\n",
    "\n",
    "generate_ids = model.generate(**inputs, max_length=30)\n",
    "processor.batch_decode(generate_ids, skip_special_tokens=True, clean_up_tokenization_spaces=False)[0]\n"
   ]
  },
  {
   "cell_type": "code",
   "execution_count": null,
   "metadata": {},
   "outputs": [],
   "source": [
    "@widgets.interact\n",
    "def show(index=widgets.IntSlider(value=0, min=0, max=len(img_paths) - 1)):\n",
    "    img_fpath = img_paths[index]\n",
    "    image = read_image(img_fpath)\n",
    "\n",
    "    instruction = 'Describe the level of drowsiness of ths person'\n",
    "    prompt = f\"\"\"User:<image>\\n{instruction} Falcon:\"\"\"\n",
    "\n",
    "    import requests\n",
    "    \n",
    "    url = \"http://images.cocodataset.org/val2017/000000039769.jpg\"\n",
    "    cats_image = Image.open(requests.get(url, stream=True).raw)\n",
    "    instruction = 'Write a long paragraph about this picture.'\n",
    "    prompt = f\"\"\"User:<image>\\n{instruction} Falcon:\"\"\"\n",
    "\n",
    "\n",
    "    inputs = processor(text=prompt, images=image, return_tensors=\"pt\")#, padding=False)\n",
    "\n",
    "    output = model.generate(**inputs, max_length=30)#, max_new_tokens=256)\n",
    "    # prompt_length = inputs['input_ids'].shape[1]\n",
    "    # generated_captions = processor.decode(output[0], skip_special_tokens=True).strip()\n",
    "    # print(generated_captions)\n",
    "\n",
    "\n",
    "    plt.figure(figsize=(10, 6))\n",
    "    plt.imshow(image)\n",
    "    plt.title(img_fpath.relative_to(DATASET_DPATH))\n",
    "    plt.show()"
   ]
  },
  {
   "cell_type": "code",
   "execution_count": null,
   "metadata": {},
   "outputs": [],
   "source": []
  }
 ],
 "metadata": {
  "kernelspec": {
   "display_name": ".venv",
   "language": "python",
   "name": "python3"
  },
  "language_info": {
   "codemirror_mode": {
    "name": "ipython",
    "version": 3
   },
   "file_extension": ".py",
   "mimetype": "text/x-python",
   "name": "python",
   "nbconvert_exporter": "python",
   "pygments_lexer": "ipython3",
   "version": "3.10.12"
  }
 },
 "nbformat": 4,
 "nbformat_minor": 2
}
